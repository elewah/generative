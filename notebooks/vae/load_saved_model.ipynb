{
 "cells": [
  {
   "cell_type": "code",
   "execution_count": 21,
   "id": "181db1d1",
   "metadata": {},
   "outputs": [],
   "source": [
    "import torch\n",
    "from torchvision import datasets\n",
    "from torchvision.transforms import v2\n",
    "\n",
    "\n",
    "batch_size = 128\n",
    "transform = v2.Compose([\n",
    "    v2.ToImage(), \n",
    "    v2.ToDtype(torch.float32, scale=True),\n",
    "    v2.Lambda(lambda x: x.view(-1) - 0.5),\n",
    "])\n",
    "\n",
    "# Download and load the training data\n",
    "train_data = datasets.MNIST(\n",
    "    '~/.pytorch/MNIST_data/', \n",
    "    download=True, \n",
    "    train=True, \n",
    "    transform=transform,\n",
    ")\n",
    "# Download and load the test data\n",
    "test_data = datasets.MNIST(\n",
    "    '~/.pytorch/MNIST_data/', \n",
    "    download=True, \n",
    "    train=False, \n",
    "    transform=transform,\n",
    ")\n",
    "\n",
    "# Create data loaders\n",
    "train_loader = torch.utils.data.DataLoader(\n",
    "    train_data, \n",
    "    batch_size=batch_size, \n",
    "    shuffle=True,\n",
    ")\n",
    "test_loader = torch.utils.data.DataLoader(\n",
    "    test_data, \n",
    "    batch_size=batch_size, \n",
    "    shuffle=False,\n",
    ")"
   ]
  },
  {
   "cell_type": "code",
   "execution_count": 22,
   "id": "194fe44e",
   "metadata": {},
   "outputs": [
    {
     "data": {
      "text/plain": [
       "VAE(\n",
       "  (encoder): Sequential(\n",
       "    (0): Linear(in_features=784, out_features=512, bias=True)\n",
       "    (1): SiLU()\n",
       "    (2): Linear(in_features=512, out_features=256, bias=True)\n",
       "    (3): SiLU()\n",
       "    (4): Linear(in_features=256, out_features=128, bias=True)\n",
       "    (5): SiLU()\n",
       "    (6): Linear(in_features=128, out_features=64, bias=True)\n",
       "    (7): SiLU()\n",
       "    (8): Linear(in_features=64, out_features=4, bias=True)\n",
       "  )\n",
       "  (softplus): Softplus(beta=1.0, threshold=20.0)\n",
       "  (decoder): Sequential(\n",
       "    (0): Linear(in_features=2, out_features=64, bias=True)\n",
       "    (1): SiLU()\n",
       "    (2): Linear(in_features=64, out_features=128, bias=True)\n",
       "    (3): SiLU()\n",
       "    (4): Linear(in_features=128, out_features=256, bias=True)\n",
       "    (5): SiLU()\n",
       "    (6): Linear(in_features=256, out_features=512, bias=True)\n",
       "    (7): SiLU()\n",
       "    (8): Linear(in_features=512, out_features=784, bias=True)\n",
       "    (9): Sigmoid()\n",
       "  )\n",
       ")"
      ]
     },
     "execution_count": 22,
     "metadata": {},
     "output_type": "execute_result"
    }
   ],
   "source": [
    "#load save model\n",
    "import torch\n",
    "from vae import VAE  # Assuming the VAE class is defined in vae.py\n",
    "from vae_output import VAEOutput  # Assuming the VAEOutput class is defined in vae_output.py    \n",
    "from datetime import datetime\n",
    "\n",
    "learning_rate = 1e-3\n",
    "weight_decay = 1e-2\n",
    "num_epochs = 50\n",
    "latent_dim = 2\n",
    "hidden_dim = 512\n",
    "\n",
    "device = torch.device('cuda' if torch.cuda.is_available() else 'cpu')\n",
    "model = VAE(input_dim=784, hidden_dim=hidden_dim, latent_dim=latent_dim).to(device)\n",
    "\n",
    "model.load_state_dict(torch.load('vae_mnist.pth'))\n",
    "model.eval()"
   ]
  },
  {
   "cell_type": "code",
   "execution_count": 23,
   "id": "94381c0e",
   "metadata": {},
   "outputs": [
    {
     "data": {
      "image/png": "[encoded data removed]",
      "text/plain": [
       "<Figure size 600x300 with 2 Axes>"
      ]
     },
     "metadata": {},
     "output_type": "display_data"
    }
   ],
   "source": [
    "import matplotlib.pyplot as plt\n",
    "# Take a single record from the dataset\n",
    "sample_img, sample_label = train_data[0]\n",
    "sample_img = sample_img.to(device).view(1, -1)\n",
    "\n",
    "# 1. Encode: get z distribution and sample z\n",
    "model.eval()\n",
    "with torch.no_grad():\n",
    "    encoded = model(sample_img, compute_loss=False)\n",
    "    z_encoded = encoded.z_sample  # shape: [1, latent_dim]\n",
    "\n",
    "# 2. Decode z to generate a new result\n",
    "with torch.no_grad():\n",
    "    decoded = model.decode(z_encoded)\n",
    "    decoded_img = decoded.view(28, 28).cpu().numpy()\n",
    "\n",
    "# Plot original and generated images\n",
    "plt.figure(figsize=(6, 3))\n",
    "plt.subplot(1, 2, 1)\n",
    "plt.title(\"Original\")\n",
    "plt.imshow(sample_img.view(28, 28).cpu().numpy(), cmap='gray')\n",
    "plt.axis('off')\n",
    "plt.subplot(1, 2, 2)\n",
    "plt.title(\"Generated\")\n",
    "plt.imshow(decoded_img, cmap='gray')\n",
    "plt.axis('off')\n",
    "plt.tight_layout()\n",
    "plt.show()"
   ]
  },
  {
   "cell_type": "code",
   "execution_count": 24,
   "id": "e129f82d",
   "metadata": {},
   "outputs": [
    {
     "name": "stdout",
     "output_type": "stream",
     "text": [
      "Original image label: 5\n"
     ]
    },
    {
     "data": {
      "image/png": "[encoded data removed]",
      "text/plain": [
       "<Figure size 1200x400 with 3 Axes>"
      ]
     },
     "metadata": {},
     "output_type": "display_data"
    },
    {
     "name": "stdout",
     "output_type": "stream",
     "text": [
      "\n",
      "Key Observation:\n",
      "- The VAE can reconstruct a digit 5 reasonably well\n",
      "- But with slight latent space perturbation, it generates a completely different digit\n",
      "- This proves VAE has no concept of 'digit classes' - it just learns smooth image manifolds!\n"
     ]
    }
   ],
   "source": [
    "import matplotlib.pyplot as plt\n",
    "\n",
    "# Find first occurrence of digit 5 in the dataset\n",
    "for i, (img, label) in enumerate(train_data):\n",
    "    if label == 5:\n",
    "        sample_5_img = img.to(device).view(1, -1)\n",
    "        sample_5_label = label\n",
    "        break\n",
    "\n",
    "print(f\"Original image label: {sample_5_label}\")\n",
    "\n",
    "# Encode and decode the digit 5\n",
    "model.eval()\n",
    "with torch.no_grad():\n",
    "    # Encode the digit 5\n",
    "    encoded = model(sample_5_img, compute_loss=False)\n",
    "    z_encoded = encoded.z_sample\n",
    "    \n",
    "    # Decode without any modification (perfect reconstruction attempt)\n",
    "    decoded = model.decode(z_encoded)\n",
    "    \n",
    "    # Also try with slight perturbation\n",
    "    z_perturbed = z_encoded + torch.randn_like(z_encoded) * 1\n",
    "    decoded_perturbed = model.decode(z_perturbed)\n",
    "\n",
    "# Visualize the results\n",
    "fig, axes = plt.subplots(1, 3, figsize=(12, 4))\n",
    "\n",
    "# Original digit 5\n",
    "axes[0].imshow(sample_5_img.view(28, 28).cpu().numpy(), cmap='gray')\n",
    "axes[0].set_title(f\"Original: Digit {sample_5_label}\")\n",
    "axes[0].axis('off')\n",
    "\n",
    "# Reconstructed (should be similar to 5)\n",
    "axes[1].imshow(decoded.view(28, 28).cpu().detach().numpy(), cmap='gray')\n",
    "axes[1].set_title(\"Reconstructed\")\n",
    "axes[1].axis('off')\n",
    "\n",
    "# Perturbed reconstruction (could be any digit!)\n",
    "axes[2].imshow(decoded_perturbed.view(28, 28).cpu().detach().numpy(), cmap='gray')\n",
    "axes[2].set_title(\"Perturbed Latent → ? Digit\")\n",
    "axes[2].axis('off')\n",
    "\n",
    "plt.tight_layout()\n",
    "plt.show()\n",
    "\n",
    "print(\"\\nKey Observation:\")\n",
    "print(\"- The VAE can reconstruct a digit 5 reasonably well\")\n",
    "print(\"- But with slight latent space perturbation, it generates a completely different digit\")\n",
    "print(\"- This proves VAE has no concept of 'digit classes' - it just learns smooth image manifolds!\")"
   ]
  }
 ],
 "metadata": {
  "kernelspec": {
   "display_name": "vae",
   "language": "python",
   "name": "python3"
  },
  "language_info": {
   "codemirror_mode": {
    "name": "ipython",
    "version": 3
   },
   "file_extension": ".py",
   "mimetype": "text/x-python",
   "name": "python",
   "nbconvert_exporter": "python",
   "pygments_lexer": "ipython3",
   "version": "3.12.3"
  }
 },
 "nbformat": 4,
 "nbformat_minor": 5
}
